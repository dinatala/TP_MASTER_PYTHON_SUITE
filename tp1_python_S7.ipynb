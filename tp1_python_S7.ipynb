{
 "cells": [
  {
   "cell_type": "code",
   "execution_count": null,
   "metadata": {},
   "outputs": [
    {
     "name": "stdout",
     "output_type": "stream",
     "text": [
      "15\n"
     ]
    }
   ],
   "source": [
    "#travaux pratique 1 de module python par:M'BARKA EL BACHIR,groupe:2\n",
    "#exercice1:\n",
    "def somme_liste(liste):\n",
    " S=0\n",
    " for i in liste:#loop inside the liste\n",
    "   S=S+i\n",
    " print (S)\n",
    "    \n",
    "somme_liste([1,2,3,4,5])"
   ]
  },
  {
   "cell_type": "code",
   "execution_count": null,
   "metadata": {},
   "outputs": [
    {
     "name": "stdout",
     "output_type": "stream",
     "text": [
      "10\n"
     ]
    }
   ],
   "source": [
    "#exercice2:\n",
    "def max_tuple(tuple):\n",
    "    max=0\n",
    "    for i in tuple:\n",
    "        if i>max:\n",
    "            max=i\n",
    "    return max\n",
    "\n",
    "\n",
    "print(max_tuple((1,5,7,2,10)))\n",
    "\n",
    "    \n",
    "    "
   ]
  },
  {
   "cell_type": "code",
   "execution_count": null,
   "metadata": {},
   "outputs": [
    {
     "name": "stdout",
     "output_type": "stream",
     "text": [
      "[1, 2, 3, 4, 5, 6]\n"
     ]
    }
   ],
   "source": [
    "#exercice3:\n",
    "def intersection(ensemble1,ensemble2):\n",
    "    total=ensemble1.copy()\n",
    "    total.extend(ensemble2)\n",
    "    \n",
    "    return total \n",
    "\n",
    "\n",
    "print(intersection([1,2,3],[4,5,6]))"
   ]
  },
  {
   "cell_type": "code",
   "execution_count": null,
   "metadata": {},
   "outputs": [
    {
     "name": "stdout",
     "output_type": "stream",
     "text": [
      "{1: 2, 5: 2, 3: 2, 2: 1}\n"
     ]
    }
   ],
   "source": [
    "#exercice4:\n",
    "def compte_occurence(liste):\n",
    "    mydicte = {}\n",
    "    for x in liste:\n",
    "        if x in mydicte:\n",
    "            mydicte[x] += 1\n",
    "        else:\n",
    "            mydicte[x] = 1\n",
    "    return mydicte\n",
    "\n",
    "# Exemple d'utilisation\n",
    "print(compte_occurence([1, 5, 3, 2, 5, 3,1]))    "
   ]
  },
  {
   "cell_type": "code",
   "execution_count": null,
   "metadata": {},
   "outputs": [],
   "source": [
    "#exercise7:\n",
    "def fonction_salutation(nom,message='bonjour'):\n",
    "    print(message +' '+ nom)\n",
    "\n",
    "fonction_salutation('meri')"
   ]
  },
  {
   "cell_type": "code",
   "execution_count": null,
   "metadata": {},
   "outputs": [],
   "source": [
    "#exercice10:\n",
    "def fusionner_dicts(dict1, dict2):\n",
    "    mydict=dict1.copy()\n",
    "    for x,y in dict2.items():\n",
    "         if x in mydict:\n",
    "            mydict[x]=mydict[x] +' '+ y\n",
    "         else:\n",
    "             mydict[x]=y\n",
    "    return mydict\n",
    "\n",
    "print(fusionner_dicts({'name':'rania','age':13},{'name':'mira','sexe':'f'}))"
   ]
  },
  {
   "cell_type": "code",
   "execution_count": null,
   "metadata": {},
   "outputs": [],
   "source": [
    "#exercise9:\n",
    "def analyse_texte(txt):\n",
    "     caractere=0\n",
    "     mots = txt.split() #Divise le texte en mots en se basant sur les espaces\n",
    "     lenth= len(mots)\n",
    "     for i in mots:\n",
    "          caractere+=len(i)\n",
    "     car=caractere\n",
    "     return dict({lenth:caractere})  \n",
    "     \n",
    "\n",
    "\n",
    "print(analyse_texte('hello world'))\n"
   ]
  },
  {
   "cell_type": "code",
   "execution_count": null,
   "metadata": {},
   "outputs": [],
   "source": [
    "#exercice8:\n",
    "def fonction_variadique(*args):\n",
    "    compt=0\n",
    "    for x in args:\n",
    "       compt=compt+1\n",
    "    return compt\n",
    "\n",
    "print(fonction_variadique([1,2,4,4],{1:2}))"
   ]
  },
  {
   "cell_type": "code",
   "execution_count": null,
   "metadata": {},
   "outputs": [],
   "source": [
    "#exercice6:\n",
    "carre =  lambda n : n **2\n",
    "print(carre(2))\n",
    "#fonction lambda"
   ]
  },
  {
   "cell_type": "code",
   "execution_count": null,
   "metadata": {},
   "outputs": [],
   "source": [
    "#exercice5:\n",
    "def factorielle(n):\n",
    "     S=1\n",
    "     n+=1\n",
    "     for i in range(1,n):\n",
    "      S=i*S\n",
    "     print(S)  \n",
    "\n",
    "factorielle(3)"
   ]
  }
 ],
 "metadata": {
  "kernelspec": {
   "display_name": "Python 3",
   "language": "python",
   "name": "python3"
  },
  "language_info": {
   "codemirror_mode": {
    "name": "ipython",
    "version": 3
   },
   "file_extension": ".py",
   "mimetype": "text/x-python",
   "name": "python",
   "nbconvert_exporter": "python",
   "pygments_lexer": "ipython3",
   "version": "3.7.4"
  }
 },
 "nbformat": 4,
 "nbformat_minor": 2
}
